{
  "nbformat": 4,
  "nbformat_minor": 0,
  "metadata": {
    "colab": {
      "name": "RandomPasswordGenerator.ipynb",
      "provenance": [],
      "authorship_tag": "ABX9TyNUvz0vXG+CBAwy1xWwTOLJ",
      "include_colab_link": true
    },
    "kernelspec": {
      "name": "python3",
      "display_name": "Python 3"
    },
    "language_info": {
      "name": "python"
    }
  },
  "cells": [
    {
      "cell_type": "markdown",
      "metadata": {
        "id": "view-in-github",
        "colab_type": "text"
      },
      "source": [
        "<a href=\"https://colab.research.google.com/github/fahimOfficial15/NAVTTCFiles/blob/main/RandomPasswordGenerator.ipynb\" target=\"_parent\"><img src=\"https://colab.research.google.com/assets/colab-badge.svg\" alt=\"Open In Colab\"/></a>"
      ]
    },
    {
      "cell_type": "code",
      "metadata": {
        "colab": {
          "base_uri": "https://localhost:8080/"
        },
        "id": "RvjEmqPcErOz",
        "outputId": "815fc4e4-7015-4df1-ec5a-324858a477b5"
      },
      "source": [
        "import random\n",
        "#Random Password Generator\n",
        "lower = \"abcdefghijklmopqrstuvwxyz\"\n",
        "uppar = \"ABCDEFGHIJKLMNOPQRSTUVWXYZ\"\n",
        "numbers = \"0123456789\"\n",
        "symbols = \"!@#$%^*?|<>:\"\n",
        "\n",
        "all = lower + uppar + numbers + symbols\n",
        "length = 16\n",
        "password = \"\".join(random.sample(all,length))\n",
        "\n",
        "print(password)"
      ],
      "execution_count": 3,
      "outputs": [
        {
          "output_type": "stream",
          "text": [
            "i5EjyCYxVW9%|zaD\n"
          ],
          "name": "stdout"
        }
      ]
    }
  ]
}