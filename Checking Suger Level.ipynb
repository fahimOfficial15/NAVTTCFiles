{
 "cells": [
  {
   "cell_type": "code",
   "execution_count": 4,
   "metadata": {},
   "outputs": [
    {
     "name": "stdout",
     "output_type": "stream",
     "text": [
      "Enter Suger Level: 90\n",
      "Suger Level is Nomal \n"
     ]
    }
   ],
   "source": [
    "suger=int(input(\"Enter Suger Level: \"))\n",
    "if suger < 80:\n",
    "    print(\"Suger Level is Low \")\n",
    "elif suger > 80 and suger <100:\n",
    "    print(\"Suger Level is Nomal \")\n",
    "else:\n",
    "    print(\"Suger Level is high \")"
   ]
  },
  {
   "cell_type": "code",
   "execution_count": null,
   "metadata": {},
   "outputs": [],
   "source": []
  }
 ],
 "metadata": {
  "kernelspec": {
   "display_name": "Python 3",
   "language": "python",
   "name": "python3"
  },
  "language_info": {
   "codemirror_mode": {
    "name": "ipython",
    "version": 3
   },
   "file_extension": ".py",
   "mimetype": "text/x-python",
   "name": "python",
   "nbconvert_exporter": "python",
   "pygments_lexer": "ipython3",
   "version": "3.7.6"
  }
 },
 "nbformat": 4,
 "nbformat_minor": 4
}
