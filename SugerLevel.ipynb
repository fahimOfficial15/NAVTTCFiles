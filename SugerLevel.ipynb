{
  "nbformat": 4,
  "nbformat_minor": 0,
  "metadata": {
    "colab": {
      "name": "Untitled1.ipynb",
      "provenance": [],
      "authorship_tag": "ABX9TyOqQxlFt4LQ2SkoneansXSS",
      "include_colab_link": true
    },
    "kernelspec": {
      "name": "python3",
      "display_name": "Python 3"
    },
    "language_info": {
      "name": "python"
    }
  },
  "cells": [
    {
      "cell_type": "markdown",
      "metadata": {
        "id": "view-in-github",
        "colab_type": "text"
      },
      "source": [
        "<a href=\"https://colab.research.google.com/github/fahimOfficial15/NAVTTCFiles/blob/main/SugerLevel.ipynb\" target=\"_parent\"><img src=\"https://colab.research.google.com/assets/colab-badge.svg\" alt=\"Open In Colab\"/></a>"
      ]
    },
    {
      "cell_type": "code",
      "metadata": {
        "colab": {
          "base_uri": "https://localhost:8080/",
          "height": 129
        },
        "id": "JoH2Va5pG8c7",
        "outputId": "c120d161-c032-4ce4-a1d9-83ab44fee0d6"
      },
      "source": [
        "\n",
        "suger=int(input(\"Enter Suger Level:\")\n",
        "if suger < 80:\n",
        "        print(\\\"Suger Level is Low\")\n",
        "    elif suger > 80 and suger <100:\n",
        "        print(\\\"Suger Level is Nomal\")\n",
        "    else:\n",
        "        print(\\\"Suger Level is high\")"
      ],
      "execution_count": 3,
      "outputs": [
        {
          "output_type": "error",
          "ename": "SyntaxError",
          "evalue": "ignored",
          "traceback": [
            "\u001b[0;36m  File \u001b[0;32m\"<ipython-input-3-eb8a0fa2d847>\"\u001b[0;36m, line \u001b[0;32m3\u001b[0m\n\u001b[0;31m    if suger < 80:\u001b[0m\n\u001b[0m                 ^\u001b[0m\n\u001b[0;31mSyntaxError\u001b[0m\u001b[0;31m:\u001b[0m invalid syntax\n"
          ]
        }
      ]
    },
    {
      "cell_type": "code",
      "metadata": {
        "id": "dffcbpnGJFNo"
      },
      "source": [
        ""
      ],
      "execution_count": null,
      "outputs": []
    }
  ]
}