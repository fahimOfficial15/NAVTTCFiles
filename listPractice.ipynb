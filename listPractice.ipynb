{
  "nbformat": 4,
  "nbformat_minor": 0,
  "metadata": {
    "colab": {
      "name": "Untitled1.ipynb",
      "provenance": [],
      "authorship_tag": "ABX9TyMpxj9D0/hiz4he83GcOiSz",
      "include_colab_link": true
    },
    "kernelspec": {
      "name": "python3",
      "display_name": "Python 3"
    },
    "language_info": {
      "name": "python"
    }
  },
  "cells": [
    {
      "cell_type": "markdown",
      "metadata": {
        "id": "view-in-github",
        "colab_type": "text"
      },
      "source": [
        "<a href=\"https://colab.research.google.com/github/fahimOfficial15/NAVTTCFiles/blob/main/listPractice.ipynb\" target=\"_parent\"><img src=\"https://colab.research.google.com/assets/colab-badge.svg\" alt=\"Open In Colab\"/></a>"
      ]
    },
    {
      "cell_type": "code",
      "metadata": {
        "colab": {
          "base_uri": "https://localhost:8080/",
          "height": 129
        },
        "id": "dffcbpnGJFNo",
        "outputId": "136ba90f-440c-435f-8004-ad78a0307c47"
      },
      "source": [
        " pakistan= [\\\"Lahore\\\",\\\"Karachi\\\",\\\"islamabad\"]\n",
        "    india= [\\\"Mumbai\\\",\\\"Banglore\\\",\\\"Chennai\\\",\\\"Delhi\"],\n",
        "    bangladesh= [\\\"Dhaka\\\",\\\"Khulna\\\",\\\"Rngpur\"]\n",
        "    city=input(\\\"Enter City Name: \")\n",
        "    city1=input(\\\"Enter Second City Name: \")\n",
        "    if city and city1 in pakistan: \"\n",
        "        print(f\\\"{city},{city1} Located in Pakistan\")\n",
        "    elif city and city1 in india:\n",
        "        print(f\\\"{city} Located in india\")\n",
        "    elif city and city1 in bangladesh:\"\n",
        "        print(f\\\"{city} Located in Banladesh\")\n",
        "    else:\n",
        "        print(f\\\"{city},{city1} is not from same Country...\")\n",
        "   ]"
      ],
      "execution_count": 7,
      "outputs": [
        {
          "output_type": "error",
          "ename": "SyntaxError",
          "evalue": "ignored",
          "traceback": [
            "\u001b[0;36m  File \u001b[0;32m\"<ipython-input-7-fc367742e3ba>\"\u001b[0;36m, line \u001b[0;32m1\u001b[0m\n\u001b[0;31m    pakistan= [\\\"Lahore\\\",\\\"Karachi\\\",\\\"islamabad\"]\u001b[0m\n\u001b[0m                                                   ^\u001b[0m\n\u001b[0;31mSyntaxError\u001b[0m\u001b[0;31m:\u001b[0m unexpected character after line continuation character\n"
          ]
        }
      ]
    },
    {
      "cell_type": "code",
      "metadata": {
        "id": "CI00zuIYLDWw"
      },
      "source": [
        ""
      ],
      "execution_count": null,
      "outputs": []
    }
  ]
}