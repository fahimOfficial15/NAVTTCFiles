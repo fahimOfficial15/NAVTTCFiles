{
  "nbformat": 4,
  "nbformat_minor": 0,
  "metadata": {
    "colab": {
      "name": "Example.ipynb",
      "provenance": [],
      "collapsed_sections": []
    },
    "kernelspec": {
      "name": "python3",
      "display_name": "Python 3"
    },
    "language_info": {
      "name": "python"
    }
  },
  "cells": [
    {
      "cell_type": "code",
      "execution_count": 1,
      "metadata": {
        "id": "EJuQLAFfb63F"
      },
      "outputs": [],
      "source": [
        "import numpy as np\n",
        "import pandas as pd"
      ]
    },
    {
      "cell_type": "markdown",
      "source": [
        "LIST\t VS TUPLE\n",
        "\n",
        "\n",
        "1\tLists are mutable\tTuples are immutable\n",
        "\n",
        "2\tImplication of iterations is Time-consuming\tThe implication of iterations is comparatively Faster\n",
        "\n",
        "3\tThe list is better for performing operations, such as insertion and deletion.\tTuple data type is appropriate for accessing the elements\n",
        "\n",
        "4\tLists consume more memory\tTuple consume less memory as compared to the list\n",
        "\n",
        "5\tLists have several built-in methods\tTuple does not have many built-in methods.\n",
        "\n",
        "6\tThe unexpected changes and errors are more likely to occur\tIn tuple, it is hard to take place."
      ],
      "metadata": {
        "id": "W3e1hHs6cis2"
      }
    },
    {
      "cell_type": "code",
      "source": [
        "list_data = ['an', 'example', 'of', 'a', 'list']\n",
        "list_data"
      ],
      "metadata": {
        "colab": {
          "base_uri": "https://localhost:8080/"
        },
        "id": "T83tDk9oc7tN",
        "outputId": "c25e3e93-5264-44ad-cfb8-36d35e0e9e79"
      },
      "execution_count": 2,
      "outputs": [
        {
          "output_type": "execute_result",
          "data": {
            "text/plain": [
              "['an', 'example', 'of', 'a', 'list']"
            ]
          },
          "metadata": {},
          "execution_count": 2
        }
      ]
    },
    {
      "cell_type": "code",
      "source": [
        "tuple_data = ('this', 'is', 'an', 'example', 'of', 'tuple')"
      ],
      "metadata": {
        "id": "iDVEkI2OdaDB"
      },
      "execution_count": 3,
      "outputs": []
    },
    {
      "cell_type": "code",
      "source": [
        "tuple_data"
      ],
      "metadata": {
        "colab": {
          "base_uri": "https://localhost:8080/"
        },
        "id": "uTfOsdSWdgk1",
        "outputId": "3a5882cc-f741-4f89-d740-08d5a113e8fa"
      },
      "execution_count": 4,
      "outputs": [
        {
          "output_type": "execute_result",
          "data": {
            "text/plain": [
              "('this', 'is', 'an', 'example', 'of', 'tuple')"
            ]
          },
          "metadata": {},
          "execution_count": 4
        }
      ]
    },
    {
      "cell_type": "code",
      "source": [
        "courses = ['statistics', 'python', 'linear algebra']\n",
        "courses"
      ],
      "metadata": {
        "colab": {
          "base_uri": "https://localhost:8080/"
        },
        "id": "A2SjFuZBdoWy",
        "outputId": "00a36905-9e78-4895-af72-cccee5e5548c"
      },
      "execution_count": 5,
      "outputs": [
        {
          "output_type": "execute_result",
          "data": {
            "text/plain": [
              "['statistics', 'python', 'linear algebra']"
            ]
          },
          "metadata": {},
          "execution_count": 5
        }
      ]
    },
    {
      "cell_type": "markdown",
      "source": [
        "List comprehensions are used for creating new lists from other iterables like tuples, strings, arrays, lists, etc.\n",
        "\n",
        " A list comprehension consists of brackets containing the expression,\n",
        " \n",
        " which is executed for each element along with the for loop to iterate over each element. \n",
        "\n",
        " Syntax:\n",
        "\n",
        "newList = [ expression(element) for element in oldList if condition ] "
      ],
      "metadata": {
        "id": "ow0WdnH3e8P4"
      }
    },
    {
      "cell_type": "code",
      "source": [
        "# Using list comprehension to iterate through loop\n",
        "List = [character for character in 'WE LOVE PAKISTAN!']\n",
        "\n",
        "# Displaying list\n",
        "print(List)\n",
        "\n"
      ],
      "metadata": {
        "colab": {
          "base_uri": "https://localhost:8080/"
        },
        "id": "OWKFREC5fHp9",
        "outputId": "533ad08a-3282-49f6-bae0-d99aa050ba38"
      },
      "execution_count": 6,
      "outputs": [
        {
          "output_type": "stream",
          "name": "stdout",
          "text": [
            "['W', 'E', ' ', 'L', 'O', 'V', 'E', ' ', 'P', 'A', 'K', 'I', 'S', 'T', 'A', 'N', '!']\n"
          ]
        }
      ]
    },
    {
      "cell_type": "markdown",
      "source": [
        "Python Dictionary\n",
        "\n",
        "Dictionary in Python is an unordered collection of data values, used to store data values like a map, which, unlike other Data Types that hold only a single value as an element, Dictionary holds key:value pair. Key-value is provided in the dictionary to make it more optimized.\n",
        "\n",
        "In Python, a Dictionary can be created by placing a sequence of elements within curly {} braces, separated by ‘comma’. Dictionary holds pairs of values, one being the Key and the other corresponding pair element being its Key:value. Values in a dictionary can be of any data type and can be duplicated, whereas keys can’t be repeated and must be immutable."
      ],
      "metadata": {
        "id": "-VpxxfRJfI_D"
      }
    },
    {
      "cell_type": "code",
      "source": [
        "Dict = {1: 'Geeks', 2: 'For', 3: 'Geeks'}\n",
        "print(\"\\nDictionary with the use of Integer Keys: \")\n",
        "print(Dict)\n",
        "\n",
        "Dict = {'Name': 'Geeks', 1: [1, 2, 3, 4]}\n",
        "print(\"\\nDictionary with the use of Mixed Keys: \")\n",
        "print(Dict)"
      ],
      "metadata": {
        "colab": {
          "base_uri": "https://localhost:8080/"
        },
        "id": "0H14XdZaaMBf",
        "outputId": "3ac02e8f-cbe2-484b-d6a4-8af71a63c583"
      },
      "execution_count": 7,
      "outputs": [
        {
          "output_type": "stream",
          "name": "stdout",
          "text": [
            "\n",
            "Dictionary with the use of Integer Keys: \n",
            "{1: 'Geeks', 2: 'For', 3: 'Geeks'}\n",
            "\n",
            "Dictionary with the use of Mixed Keys: \n",
            "{'Name': 'Geeks', 1: [1, 2, 3, 4]}\n"
          ]
        }
      ]
    },
    {
      "cell_type": "markdown",
      "source": [
        ""
      ],
      "metadata": {
        "id": "m47fJnE-avje"
      }
    },
    {
      "cell_type": "code",
      "source": [
        "# Python program to demonstrate\n",
        "# accessing a element from a Dictionary\n",
        "\n",
        "# Creating a Dictionary\n",
        "Dict = {1: 'Geeks', 'name': 'For', 3: 'Geeks'}\n",
        "\n",
        "# accessing a element using key\n",
        "print(\"Accessing a element using key:\")\n",
        "print(Dict['name'])\n",
        "\n",
        "# accessing a element using key\n",
        "print(\"Accessing a element using key:\")\n",
        "print(Dict[1])\n",
        "\n",
        "# accessing a element using get()\n",
        "# method\n",
        "print(\"Accessing a element using get:\")\n",
        "print(Dict.get(3))\n"
      ],
      "metadata": {
        "colab": {
          "base_uri": "https://localhost:8080/"
        },
        "id": "PZtmmJEvcDog",
        "outputId": "56269a7b-25e4-468d-d148-1d3cf623c0ae"
      },
      "execution_count": 8,
      "outputs": [
        {
          "output_type": "stream",
          "name": "stdout",
          "text": [
            "Accessing a element using key:\n",
            "For\n",
            "Accessing a element using key:\n",
            "Geeks\n",
            "Accessing a element using get:\n",
            "Geeks\n"
          ]
        }
      ]
    },
    {
      "cell_type": "code",
      "source": [
        "# Creating a Dictionary\n",
        "Dict = {1: 'Geeks', 'name': 'For', 3: 'Geeks'}\n",
        "\n",
        "# Deleting a key\n",
        "# using pop() method\n",
        "pop_ele = Dict.pop(1)\n",
        "print('\\nDictionary after deletion: ' + str(Dict))\n",
        "print('Value associated to poped key is: ' + str(pop_ele))\n"
      ],
      "metadata": {
        "colab": {
          "base_uri": "https://localhost:8080/"
        },
        "id": "Cy7XMExZc8fa",
        "outputId": "464fd583-952c-43c5-e6de-01a3fa05f5ab"
      },
      "execution_count": 9,
      "outputs": [
        {
          "output_type": "stream",
          "name": "stdout",
          "text": [
            "\n",
            "Dictionary after deletion: {'name': 'For', 3: 'Geeks'}\n",
            "Value associated to poped key is: Geeks\n"
          ]
        }
      ]
    },
    {
      "cell_type": "code",
      "source": [
        "# Deleting entire Dictionary\n",
        "Dict.clear()\n",
        "print(\"\\nDeleting Entire Dictionary: \")\n",
        "print(Dict)"
      ],
      "metadata": {
        "colab": {
          "base_uri": "https://localhost:8080/"
        },
        "id": "eb0Pz0dic-zB",
        "outputId": "89e0e107-f610-4207-e90e-a3644bde7560"
      },
      "execution_count": 10,
      "outputs": [
        {
          "output_type": "stream",
          "name": "stdout",
          "text": [
            "\n",
            "Deleting Entire Dictionary: \n",
            "{}\n"
          ]
        }
      ]
    },
    {
      "cell_type": "code",
      "source": [
        ""
      ],
      "metadata": {
        "id": "cPhMz73GdNHw"
      },
      "execution_count": 10,
      "outputs": []
    },
    {
      "cell_type": "markdown",
      "source": [
        "A string is a sequence of characters.\n",
        "\n",
        "A character is simply a symbol. For example, the English language has 26 characters.\n",
        "\n",
        "Computers do not deal with characters, they deal with numbers (binary). Even though you may see characters on your screen, internally it is stored and manipulated as a combination of 0s and 1s.\n",
        "\n",
        "This conversion of character to a number is called encoding, and the reverse process is decoding. ASCII and Unicode are some of the popular encodings used"
      ],
      "metadata": {
        "id": "Pbh_0MJniJGg"
      }
    },
    {
      "cell_type": "code",
      "source": [
        "# defining strings in Python\n",
        "# all of the following are equivalent\n",
        "my_string = 'Hello'\n",
        "print(my_string)\n",
        "\n",
        "my_string = \"Hello\"\n",
        "print(my_string)\n",
        "\n",
        "my_string = '''Hello'''\n",
        "print(my_string)\n",
        "\n",
        "# triple quotes string can extend multiple lines\n",
        "my_string = \"\"\"Hello, welcome to\n",
        "           the world of Python\"\"\"\n",
        "print(my_string)"
      ],
      "metadata": {
        "colab": {
          "base_uri": "https://localhost:8080/"
        },
        "id": "YVLrvKS-iSjD",
        "outputId": "e4a94a88-90af-44fa-fd2c-f6f3afa7577d"
      },
      "execution_count": 11,
      "outputs": [
        {
          "output_type": "stream",
          "name": "stdout",
          "text": [
            "Hello\n",
            "Hello\n",
            "Hello\n",
            "Hello, welcome to\n",
            "           the world of Python\n"
          ]
        }
      ]
    },
    {
      "cell_type": "code",
      "source": [
        "#Accessing string characters in Python\n",
        "str = 'programiz'\n",
        "print('str = ', str)\n",
        "\n",
        "#first character\n",
        "print('str[0] = ', str[0])\n",
        "\n",
        "#last character\n",
        "print('str[-1] = ', str[-1])\n",
        "\n",
        "#slicing 2nd to 5th character\n",
        "print('str[1:5] = ', str[1:5])\n",
        "\n",
        "#slicing 6th to 2nd last character\n",
        "print('str[5:-2] = ', str[5:-2])"
      ],
      "metadata": {
        "colab": {
          "base_uri": "https://localhost:8080/"
        },
        "id": "8MVrOUzziu28",
        "outputId": "8eba87aa-5e70-44ad-a44b-bee1705ce67a"
      },
      "execution_count": 12,
      "outputs": [
        {
          "output_type": "stream",
          "name": "stdout",
          "text": [
            "str =  programiz\n",
            "str[0] =  p\n",
            "str[-1] =  z\n",
            "str[1:5] =  rogr\n",
            "str[5:-2] =  am\n"
          ]
        }
      ]
    },
    {
      "cell_type": "code",
      "source": [
        "# Python String Operations\n",
        "str1 = 'Hello'\n",
        "str2 ='World!'\n",
        "\n",
        "# using +\n",
        "print('str1 + str2 = ', str1 + str2)\n",
        "\n",
        "# using *\n",
        "print('str1 * 3 =', str1 * 3)"
      ],
      "metadata": {
        "colab": {
          "base_uri": "https://localhost:8080/"
        },
        "id": "C7jvls8oi6_G",
        "outputId": "9e2d0b7f-e0dd-4c82-9390-5af18cfd1bc7"
      },
      "execution_count": 13,
      "outputs": [
        {
          "output_type": "stream",
          "name": "stdout",
          "text": [
            "str1 + str2 =  HelloWorld!\n",
            "str1 * 3 = HelloHelloHello\n"
          ]
        }
      ]
    },
    {
      "cell_type": "code",
      "source": [
        "str = 'cold'\n",
        "\n",
        "# enumerate()\n",
        "list_enumerate = list(enumerate(str))\n",
        "print('list(enumerate(str) = ', list_enumerate)\n",
        "\n",
        "#character count\n",
        "print('len(str) = ', len(str))"
      ],
      "metadata": {
        "colab": {
          "base_uri": "https://localhost:8080/"
        },
        "id": "VLPrkMnKjGnE",
        "outputId": "83b820b8-99ee-483d-c94a-898f6067ecb7"
      },
      "execution_count": 14,
      "outputs": [
        {
          "output_type": "stream",
          "name": "stdout",
          "text": [
            "list(enumerate(str) =  [(0, 'c'), (1, 'o'), (2, 'l'), (3, 'd')]\n",
            "len(str) =  4\n"
          ]
        }
      ]
    }
  ]
}